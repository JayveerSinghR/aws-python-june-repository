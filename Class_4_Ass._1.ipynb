{
 "cells": [
  {
   "cell_type": "markdown",
   "metadata": {},
   "source": [
    "## 1. What is the output of the following code?"
   ]
  },
  {
   "cell_type": "code",
   "execution_count": 1,
   "metadata": {},
   "outputs": [
    {
     "name": "stdout",
     "output_type": "stream",
     "text": [
      "4\n"
     ]
    }
   ],
   "source": [
    "nums = set([1,1,2,3,3,3,4,4])\n",
    "print(len(nums))\n"
   ]
  },
  {
   "cell_type": "markdown",
   "metadata": {},
   "source": [
    "## 2. What will be the output?"
   ]
  },
  {
   "cell_type": "code",
   "execution_count": 2,
   "metadata": {},
   "outputs": [
    {
     "name": "stdout",
     "output_type": "stream",
     "text": [
      "['john', 'peter']\n"
     ]
    }
   ],
   "source": [
    "d = {\"john\":40, \"peter\":45}\n",
    "print(list(d.keys()))"
   ]
  },
  {
   "cell_type": "markdown",
   "metadata": {},
   "source": [
    "## 3.Write a for loop that prints all elements of a list and their position in the list."
   ]
  },
  {
   "cell_type": "code",
   "execution_count": 13,
   "metadata": {},
   "outputs": [
    {
     "name": "stdout",
     "output_type": "stream",
     "text": [
      "The element of the list is 4 and its position 0\n",
      "The element of the list is 7 and its position 1\n",
      "The element of the list is 3 and its position 2\n",
      "The element of the list is 2 and its position 3\n",
      "The element of the list is 5 and its position 4\n",
      "The element of the list is 9 and its position 5\n"
     ]
    }
   ],
   "source": [
    "a = [4,7,3,2,5,9]\n",
    "i  = 0\n",
    "for x in a:\n",
    "#     print(\"The element of the list is {} and its position {}\".format(x,i))\n",
    "    print(\"The element of the list is {} and its position {}\".format(x,a.index(x)))\n",
    "    i+=1\n"
   ]
  },
  {
   "cell_type": "markdown",
   "metadata": {},
   "source": [
    "## 4.Please write a program which accepts a string from console and print the\n",
    "##  characters that have even indexes.\n",
    "##  Example: If the following string is given as input to the program:\n",
    "##  H1e2l3l4o5w6o7r8l9d"
   ]
  },
  {
   "cell_type": "code",
   "execution_count": 31,
   "metadata": {},
   "outputs": [
    {
     "name": "stdout",
     "output_type": "stream",
     "text": [
      "Please enter stringH1e2l3l4o5w6o7r8l9d\n",
      "Helloworld\n"
     ]
    }
   ],
   "source": [
    "string = input(\"Please enter string\")\n",
    "out_str = ''\n",
    "for i in string:\n",
    "    if string.index(i)%2 == 0:\n",
    "        out_str = out_str+i\n",
    "       \n",
    "        \n",
    "print(out_str)\n",
    "      \n",
    "\n",
    "    "
   ]
  },
  {
   "cell_type": "markdown",
   "metadata": {},
   "source": [
    "## 5. Please write a program which accepts a string from console and print it in reverse\n",
    "## order.\n",
    "## Example: If the following string is given as input to the program:\n",
    "##  rise to vote sir\n",
    "##  Then, the output of the program should be:\n",
    "##  ris etov ot esir"
   ]
  },
  {
   "cell_type": "code",
   "execution_count": 37,
   "metadata": {},
   "outputs": [
    {
     "name": "stdout",
     "output_type": "stream",
     "text": [
      "please enter stringrise to vote sir\n",
      "Final output:   ris etov ot esir\n"
     ]
    }
   ],
   "source": [
    "In = input(\"please enter string\")\n",
    "out_put  = ''\n",
    "for i in reversed(In):\n",
    "    out_put+=i\n",
    "    \n",
    "print(\"Final output:   \" + out_put)"
   ]
  },
  {
   "cell_type": "markdown",
   "metadata": {},
   "source": [
    "# Class_4_Ass_2\n"
   ]
  },
  {
   "cell_type": "markdown",
   "metadata": {},
   "source": [
    "###  1. Please write a program which count and print the numbers of each character in a\n",
    "### string input by console.\n",
    "###  Example: If the following string is given as input to the program:\n",
    "###  abcdefgabc\n",
    "###  Then, the output of the program should be:"
   ]
  },
  {
   "cell_type": "code",
   "execution_count": 56,
   "metadata": {},
   "outputs": [
    {
     "name": "stdout",
     "output_type": "stream",
     "text": [
      "Please Enter your string: abcdefgabc\n",
      "a,2\n",
      "b,2\n",
      "c,2\n",
      "d,1\n",
      "e,1\n",
      "f,1\n",
      "g,1\n"
     ]
    }
   ],
   "source": [
    "Input_str = input(\"Please Enter your string: \")\n",
    "dic = {}\n",
    "count = 0\n",
    "for i in Input_str:\n",
    "    if i not in dic.keys():\n",
    "        dic[i] = 1\n",
    "    else:\n",
    "        dic[i] = dic[i]+1\n",
    "for key,value in dic.items():\n",
    "    print('{},{}'.format(key,value))"
   ]
  },
  {
   "cell_type": "markdown",
   "metadata": {},
   "source": [
    "### 2. With two given lists [1,3,6,78,35,55] and [12,24,35,24,88,120,155], write a\n",
    "### program to make a list whose elements are intersection of the above given lists."
   ]
  },
  {
   "cell_type": "code",
   "execution_count": 59,
   "metadata": {},
   "outputs": [
    {
     "name": "stdout",
     "output_type": "stream",
     "text": [
      "[35, 55]\n"
     ]
    }
   ],
   "source": [
    "l1 = [1,3,6,78,35,55] \n",
    "l2 = [12,24,35,24,88,120,155]\n",
    "l3 = []\n",
    "for i in l1:\n",
    "    for j in l2:\n",
    "        if i == j:\n",
    "            l3.append(i)\n",
    "            \n",
    "print(l3)\n",
    "            "
   ]
  },
  {
   "cell_type": "code",
   "execution_count": 61,
   "metadata": {},
   "outputs": [
    {
     "name": "stdout",
     "output_type": "stream",
     "text": [
      "[35]\n"
     ]
    }
   ],
   "source": [
    "# 2. With two given lists [1,3,6,78,35,55] and [12,24,35,24,88,120,155], write a\n",
    "# program to make a list whose elements are intersection of the above given lists.\n",
    "l1 = set([1,3,6,78,35,55]) \n",
    "l2 = set([12,24,35,24,88,120,155])\n",
    "l3 = l1.intersection(l2)\n",
    "print(list(l3))"
   ]
  },
  {
   "cell_type": "markdown",
   "metadata": {},
   "source": [
    "### 3. With a given list [12,24,35,24,88,120,155,88,120,155], write a program to print this\n",
    "### list after removing all duplicate values with original order reserved."
   ]
  },
  {
   "cell_type": "code",
   "execution_count": 64,
   "metadata": {},
   "outputs": [
    {
     "name": "stdout",
     "output_type": "stream",
     "text": [
      "[12, 24, 35, 88, 120, 155]\n"
     ]
    }
   ],
   "source": [
    "l1 = [12,24,35,24,88,120,155,88,120,155]\n",
    "l2 = []\n",
    "for i in l1:\n",
    "    if i not in l2:\n",
    "        l2.append(i)\n",
    "print(l2)\n",
    "        "
   ]
  },
  {
   "cell_type": "markdown",
   "metadata": {},
   "source": [
    "### 4.By using list comprehension, please write a program to print the list after removing\n",
    "### the value 24 in [12,24,35,24,88,120,155].\n"
   ]
  },
  {
   "cell_type": "code",
   "execution_count": 66,
   "metadata": {},
   "outputs": [
    {
     "name": "stdout",
     "output_type": "stream",
     "text": [
      "[12, 35, 88, 120, 155]\n"
     ]
    }
   ],
   "source": [
    "lists = [12,24,35,24,88,120,155]\n",
    "print([x for x in lists if x!=24])"
   ]
  },
  {
   "cell_type": "markdown",
   "metadata": {},
   "source": [
    "### 5.By using list comprehension, please write a program to print the list after removing\n",
    "### the 0th,4th,5th numbers in [12,24,35,70,88,120,155]."
   ]
  },
  {
   "cell_type": "code",
   "execution_count": 70,
   "metadata": {},
   "outputs": [
    {
     "name": "stdout",
     "output_type": "stream",
     "text": [
      "[24, 35, 70, 155]\n"
     ]
    }
   ],
   "source": [
    "lists = [12,24,35,70,88,120,155]\n",
    "print([x for x in lists if lists.index(x) not in [0,4,5]])"
   ]
  },
  {
   "cell_type": "markdown",
   "metadata": {},
   "source": [
    "# Set3"
   ]
  },
  {
   "cell_type": "markdown",
   "metadata": {},
   "source": [
    "# A three digit number is said to be an “Armstrong number” if the sum of the third power of its individual digits is equal to the number itself.\n",
    "# Example: 371 is an Armstrong number as 371 = 3 power 3 + 7 power 3 + 1 power 3\n",
    "#               407 is an Armstrong number as 407 = 4  power 3 + 0  power  3 + 7  power 3\n",
    "# Write a python code to check whether a given three digit number is an Armstrong number."
   ]
  },
  {
   "cell_type": "code",
   "execution_count": 9,
   "metadata": {},
   "outputs": [
    {
     "name": "stdout",
     "output_type": "stream",
     "text": [
      "please enter 407\n",
      "user input number is: Armstrong number\n"
     ]
    }
   ],
   "source": [
    "user_input = int(input(\"please enter \"))\n",
    "num = user_input\n",
    "sum = 0\n",
    "while num>0:\n",
    "    n = num%10\n",
    "    sum = sum+n**3\n",
    "    num = num//10\n",
    "    \n",
    "if user_input == sum:\n",
    "    print(\"user input number is: Armstrong number\")\n",
    "    \n",
    "else:\n",
    "    print(\"Entered number is not : Armstrong number\")\n",
    "    "
   ]
  },
  {
   "cell_type": "markdown",
   "metadata": {},
   "source": [
    "# Write a python program to generate the ticket numbers for specified number of passengers traveling in a flight as per the details mentioned below:\n",
    "# The ticket number should be generated as airline:src:dest:number\n",
    "# where\n",
    "\n",
    "# Consider AI as the value for airline\n",
    "# src and dest should be the first three characters of the source and destination cities.\n",
    "# number should be auto-generated starting from 101\n",
    "# The program should return the list of ticket numbers of last five passengers.\n",
    "# Note: If passenger count is less than 5, return the list of all generated ticket numbers.\n",
    "\n",
    "# Sample Input:\n",
    "\n",
    "# airline = AI\n",
    "# source = Bangalore\n",
    "# destination = London\n",
    "# no_of_passengers = 10\n",
    "\n",
    "# Expected Output: \n",
    "# ['AI:Ban:Lon:106', 'AI:Ban:Lon:107', 'AI:Ban:Lon:108', 'AI:Ban:Lon:109', 'AI:Ban:Lon:110']"
   ]
  },
  {
   "cell_type": "code",
   "execution_count": 20,
   "metadata": {},
   "outputs": [
    {
     "name": "stdout",
     "output_type": "stream",
     "text": [
      "please enter airlineAL\n",
      "Please enter source cityBanglore\n",
      "Please emter destination cityLondon\n",
      "Number of passenger4\n",
      "['AL:Ban:Lon:101', 'AL:Ban:Lon:102', 'AL:Ban:Lon:103', 'AL:Ban:Lon:104']\n"
     ]
    }
   ],
   "source": [
    "al = input(\"please enter airline\")\n",
    "s = input(\"Please enter source city\")\n",
    "d = input(\"Please emter destination city\")\n",
    "n = int(input(\"Number of passenger\"))\n",
    "tickets = []\n",
    "i = 0\n",
    "if n < 5:\n",
    "    while n != 0:\n",
    "        tickets.append(al + \":\" + s[:3] + \":\" + d[:3] + \":\" + str(101+i))\n",
    "        i = i+1\n",
    "        n = n - 1\n",
    "else:\n",
    "    j = 4\n",
    "    for i in range(5):\n",
    "        tickets.append(al + \":\" + s[:3] + \":\" + d[:3] + \":\" + str(100+n-j))\n",
    "        j = j-1\n",
    "\n",
    "print(tickets)\n"
   ]
  },
  {
   "cell_type": "code",
   "execution_count": 17,
   "metadata": {},
   "outputs": [
    {
     "data": {
      "text/plain": [
       "['AI:Ban:Lon:101',\n",
       " 'AI:Ban:Lon:102',\n",
       " 'AI:Ban:Lon:103',\n",
       " 'AI:Ban:Lon:104',\n",
       " 'AI:Ban:Lon:105']"
      ]
     },
     "execution_count": 17,
     "metadata": {},
     "output_type": "execute_result"
    }
   ],
   "source": [
    "def ticket(airline,source,destination,no_of_passengers):\n",
    "    tickets = []\n",
    "    i = 0\n",
    "    if no_of_passengers < 5:\n",
    "        while no_of_passengers != 0:\n",
    "            tickets.append(airline + \":\" + source[:3] + \":\" + destination[:3] + \":\" + str(101+i))\n",
    "            i = i+1\n",
    "            no_of_passengers = no_of_passengers - 1\n",
    "    else:\n",
    "        j = 4\n",
    "        for i in range(5):\n",
    "            tickets.append(airline + \":\" + source[:3] + \":\" + destination[:3] + \":\" + str(100+no_of_passengers-j))\n",
    "            j = j-1\n",
    "\n",
    "    return tickets\n",
    "\n",
    "ticket('AI','Banglore','London',5)"
   ]
  },
  {
   "cell_type": "code",
   "execution_count": null,
   "metadata": {},
   "outputs": [],
   "source": []
  }
 ],
 "metadata": {
  "kernelspec": {
   "display_name": "Python 3",
   "language": "python",
   "name": "python3"
  },
  "language_info": {
   "codemirror_mode": {
    "name": "ipython",
    "version": 3
   },
   "file_extension": ".py",
   "mimetype": "text/x-python",
   "name": "python",
   "nbconvert_exporter": "python",
   "pygments_lexer": "ipython3",
   "version": "3.7.3"
  }
 },
 "nbformat": 4,
 "nbformat_minor": 2
}
